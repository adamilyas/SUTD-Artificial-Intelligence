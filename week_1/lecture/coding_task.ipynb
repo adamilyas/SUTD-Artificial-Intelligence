{
 "cells": [
  {
   "cell_type": "code",
   "execution_count": 1,
   "metadata": {},
   "outputs": [],
   "source": [
    "import numpy as np\n",
    "import matplotlib.pyplot as plt\n",
    "\n",
    "%matplotlib inline"
   ]
  },
  {
   "cell_type": "markdown",
   "metadata": {},
   "source": [
    "X: The function returns a 2d numpy array of features x with shape (num, dims)\n",
    "where num is the number of samples, dims is 2 here. The features are drawn\n",
    "from a standard normal distribution.\n",
    "\n",
    "The labels are computed from the features as\n",
    "$$y_{i}=x_{i, 0} w_{1}+x_{i, 1} w_{2}+n$$\n",
    "$$n \\sim N(0, \\epsilon)$$"
   ]
  },
  {
   "cell_type": "code",
   "execution_count": 10,
   "metadata": {},
   "outputs": [],
   "source": [
    "def datagen2d(w1,w2,eps,num):\n",
    "    \"\"\"\n",
    "    num: number of samples\n",
    "    \"\"\"\n",
    "    X = np.random.normal(0, 1, size=(num,2))\n",
    "    weights = np.array([w1, w2]).reshape(-1,1)\n",
    "    n = np.random.normal(0, eps)\n",
    "    \n",
    "    y = X@weights+n\n",
    "    return X, y\n",
    "\n",
    "def rndsplit(x,y,numtr):\n",
    "\n",
    "    inds=np.arange(y.size)\n",
    "    np.random.shuffle(inds)\n",
    "\n",
    "    xtr=x[inds[0:numtr],:]\n",
    "    ytr=y[inds[0:numtr]]\n",
    "\n",
    "    xv=x[inds[numtr:],:]\n",
    "    yv=y[inds[numtr:]]\n",
    "\n",
    "    return xtr,ytr,xv,yv\n",
    "\n",
    "def gendata(numtotal):\n",
    "  \n",
    "    w1=0.5\n",
    "    w2=-2\n",
    "    xtr,ytr = datagen2d(w1=w1,w2=w2,eps=0.8,num= int( 0.7*numtotal) ) #70% of numtotal\n",
    "    xv,yv = datagen2d(w1=w1,w2=w2,eps=0.8,num= int( 0.3*numtotal) ) #30 % of numtotal\n",
    "    #xtr,ytr,xv,yv = rndsplit(x,y,numtr=int( 0.7*numtotal))\n",
    "    return xtr,ytr,xv,yv,w1,w2\n",
    "\n",
    "def linreg_train(xtr,ytr,C):\n",
    "    # here xtr are the train features, ytr are the train labels and C is the stabilization constant from the ridge regression\n",
    "    N, d = xtr.shape\n",
    "    w = (xtr.T@xtr+C*np.eye(d)) @ (xtr.T@ytr)\n",
    "    return w"
   ]
  },
  {
   "cell_type": "code",
   "execution_count": 11,
   "metadata": {},
   "outputs": [],
   "source": [
    "xtr,ytr,xv,yv,w1,w2 = gendata2(10)"
   ]
  },
  {
   "cell_type": "code",
   "execution_count": 12,
   "metadata": {},
   "outputs": [],
   "source": [
    "xtr,ytr,xv,yv,w1,w2=gendata(1000)  "
   ]
  },
  {
   "cell_type": "code",
   "execution_count": 13,
   "metadata": {},
   "outputs": [
    {
     "name": "stdout",
     "output_type": "stream",
     "text": [
      "w [[  250162.88283266]\n",
      " [-1038904.13479622]] true w [0.5, -2] diff [[1.14190406e+12 1.14190209e+12]\n",
      " [1.14190209e+12 1.14190011e+12]]\n"
     ]
    },
    {
     "ename": "NameError",
     "evalue": "name 'linreg_apply' is not defined",
     "output_type": "error",
     "traceback": [
      "\u001b[0;31m---------------------------------------\u001b[0m",
      "\u001b[0;31mNameError\u001b[0mTraceback (most recent call last)",
      "\u001b[0;32m<ipython-input-13-0e043854c7b1>\u001b[0m in \u001b[0;36m<module>\u001b[0;34m()\u001b[0m\n\u001b[1;32m     12\u001b[0m     \u001b[0mprint\u001b[0m\u001b[0;34m(\u001b[0m\u001b[0;34m'mse'\u001b[0m\u001b[0;34m,\u001b[0m\u001b[0me\u001b[0m\u001b[0;34m)\u001b[0m\u001b[0;34m\u001b[0m\u001b[0m\n\u001b[1;32m     13\u001b[0m \u001b[0;34m\u001b[0m\u001b[0m\n\u001b[0;32m---> 14\u001b[0;31m \u001b[0mrun1\u001b[0m\u001b[0;34m(\u001b[0m\u001b[0mxtr\u001b[0m\u001b[0;34m,\u001b[0m\u001b[0mytr\u001b[0m\u001b[0;34m,\u001b[0m\u001b[0mxv\u001b[0m\u001b[0;34m,\u001b[0m\u001b[0myv\u001b[0m\u001b[0;34m,\u001b[0m\u001b[0mw1\u001b[0m\u001b[0;34m,\u001b[0m\u001b[0mw2\u001b[0m\u001b[0;34m,\u001b[0m\u001b[0;36m1e-3\u001b[0m\u001b[0;34m)\u001b[0m\u001b[0;34m\u001b[0m\u001b[0m\n\u001b[0m",
      "\u001b[0;32m<ipython-input-13-0e043854c7b1>\u001b[0m in \u001b[0;36mrun1\u001b[0;34m(xtr, ytr, xv, yv, w1, w2, C)\u001b[0m\n\u001b[1;32m      7\u001b[0m     \u001b[0mprint\u001b[0m\u001b[0;34m(\u001b[0m\u001b[0;34m'w'\u001b[0m\u001b[0;34m,\u001b[0m\u001b[0mw\u001b[0m\u001b[0;34m,\u001b[0m \u001b[0;34m'true w'\u001b[0m\u001b[0;34m,\u001b[0m \u001b[0;34m[\u001b[0m\u001b[0mw1\u001b[0m\u001b[0;34m,\u001b[0m\u001b[0mw2\u001b[0m\u001b[0;34m]\u001b[0m\u001b[0;34m,\u001b[0m \u001b[0;34m'diff'\u001b[0m\u001b[0;34m,\u001b[0m \u001b[0mnp\u001b[0m\u001b[0;34m.\u001b[0m\u001b[0mdot\u001b[0m\u001b[0;34m(\u001b[0m\u001b[0;34m(\u001b[0m\u001b[0mw\u001b[0m\u001b[0;34m-\u001b[0m\u001b[0mwtrue\u001b[0m\u001b[0;34m)\u001b[0m\u001b[0;34m.\u001b[0m\u001b[0mT\u001b[0m\u001b[0;34m,\u001b[0m\u001b[0mw\u001b[0m\u001b[0;34m-\u001b[0m\u001b[0mwtrue\u001b[0m\u001b[0;34m)\u001b[0m\u001b[0;34m)\u001b[0m\u001b[0;34m\u001b[0m\u001b[0m\n\u001b[1;32m      8\u001b[0m \u001b[0;34m\u001b[0m\u001b[0m\n\u001b[0;32m----> 9\u001b[0;31m     \u001b[0mypred\u001b[0m\u001b[0;34m=\u001b[0m\u001b[0mlinreg_apply\u001b[0m\u001b[0;34m(\u001b[0m\u001b[0mxv\u001b[0m\u001b[0;34m,\u001b[0m\u001b[0mw\u001b[0m\u001b[0;34m)\u001b[0m\u001b[0;34m\u001b[0m\u001b[0m\n\u001b[0m\u001b[1;32m     10\u001b[0m     \u001b[0me\u001b[0m\u001b[0;34m=\u001b[0m\u001b[0mmse\u001b[0m\u001b[0;34m(\u001b[0m\u001b[0mypred\u001b[0m\u001b[0;34m,\u001b[0m\u001b[0myv\u001b[0m\u001b[0;34m)\u001b[0m\u001b[0;34m\u001b[0m\u001b[0m\n\u001b[1;32m     11\u001b[0m \u001b[0;34m\u001b[0m\u001b[0m\n",
      "\u001b[0;31mNameError\u001b[0m: name 'linreg_apply' is not defined"
     ]
    }
   ],
   "source": [
    "def linreg_apply(xv,w):\n",
    "    return np.dot(xv,w)\n",
    "def run1(xtr,ytr,xv,yv,w1,w2,C):\n",
    "\n",
    "    w=linreg_train(xtr,ytr,C=C) # 0.1\n",
    "\n",
    "    wtrue=np.asarray([w1,w2])\n",
    "\n",
    "    print('w',w, 'true w', [w1,w2], 'diff', np.dot((w-wtrue).T,w-wtrue))\n",
    "\n",
    "    ypred=linreg_apply(xv,w)\n",
    "    e=mse(ypred,yv)\n",
    "\n",
    "    print('mse',e)\n",
    "\n",
    "run1(xtr,ytr,xv,yv,w1,w2,1e-3)"
   ]
  },
  {
   "cell_type": "code",
   "execution_count": null,
   "metadata": {},
   "outputs": [],
   "source": [
    "          "
   ]
  },
  {
   "cell_type": "code",
   "execution_count": null,
   "metadata": {},
   "outputs": [],
   "source": []
  }
 ],
 "metadata": {
  "kernelspec": {
   "display_name": "Python 3",
   "language": "python",
   "name": "python3"
  },
  "language_info": {
   "codemirror_mode": {
    "name": "ipython",
    "version": 3
   },
   "file_extension": ".py",
   "mimetype": "text/x-python",
   "name": "python",
   "nbconvert_exporter": "python",
   "pygments_lexer": "ipython3",
   "version": "3.6.5"
  }
 },
 "nbformat": 4,
 "nbformat_minor": 2
}
