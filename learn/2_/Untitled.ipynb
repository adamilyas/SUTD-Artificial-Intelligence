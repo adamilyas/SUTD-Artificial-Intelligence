{
 "cells": [
  {
   "cell_type": "code",
   "execution_count": 1,
   "metadata": {},
   "outputs": [],
   "source": [
    "import pdb\n",
    "import numpy as np\n",
    "import matplotlib.pyplot as plt\n",
    "import math\n",
    "\n",
    "%matplotlib inline"
   ]
  },
  {
   "cell_type": "code",
   "execution_count": 2,
   "metadata": {},
   "outputs": [],
   "source": [
    "# Uses data set from Chapter 1 of Bishop, stored in file\n",
    "# \"curvefitting.txt\".  They are 10 points drawn from (x, sin(2 pi x))\n",
    "# with noise added (but I'm not sure how much.)\n",
    "\n",
    "# If random is not False, it should be an integer, and instead of\n",
    "# returning data from the file, we will generate a new random data set\n",
    "# of that size, with 0 mean, 0.2 stdev Gaussian noise.\n",
    "\n",
    "# if addOnes is true, return: n x 1 matrix X, n x 2 matrix F (with\n",
    "# column of 1's added) and n x 1 matrix Y.\n",
    "\n",
    "def getCurveData(addOnes = False, random = False):\n",
    "    if random:\n",
    "        X = np.matrix([[i / float(random)] for i in range(random + 1)])\n",
    "        noise = np.random.normal(scale = 0.2, size = (random+1, 1))\n",
    "        y = np.matrix([[np.sin(2 * np.pi * X[i,0])] for i in range(X.shape[0])]) + noise\n",
    "    else:\n",
    "        data = np.loadtxt('curvefitting.txt')\n",
    "        X, y = np.matrix(data[0]).T, np.matrix(data[1]).T\n",
    "    if addOnes:\n",
    "        F = np.append(np.ones_like(X), X, 1)\n",
    "        return X, F, y\n",
    "    else:\n",
    "        return X, y"
   ]
  },
  {
   "cell_type": "code",
   "execution_count": 3,
   "metadata": {},
   "outputs": [],
   "source": [
    "X, y = getCurveData()"
   ]
  },
  {
   "cell_type": "code",
   "execution_count": 4,
   "metadata": {},
   "outputs": [
    {
     "data": {
      "text/plain": [
       "<matplotlib.collections.PathCollection at 0x7fb46977e278>"
      ]
     },
     "execution_count": 4,
     "metadata": {},
     "output_type": "execute_result"
    },
    {
     "data": {
      "image/png": "[encoded data removed]",
      "text/plain": [
       "<Figure size 432x288 with 1 Axes>"
      ]
     },
     "metadata": {},
     "output_type": "display_data"
    }
   ],
   "source": [
    "plt.scatter(X.A1, y.A1)"
   ]
  },
  {
   "cell_type": "markdown",
   "metadata": {},
   "source": [
    "## Learning algorithms and helpers"
   ]
  },
  {
   "cell_type": "markdown",
   "metadata": {},
   "source": [
    "### Ordinary least squares regression\n",
    "$$\n",
    "w=\\left(X^{T} \\cdot X\\right)^{-1} X^{T} \\cdot Y\n",
    "$$"
   ]
  },
  {
   "cell_type": "code",
   "execution_count": 5,
   "metadata": {},
   "outputs": [],
   "source": [
    "def ols_regression(X, y):\n",
    "    \"\"\"\n",
    "    X: n x d matrix\n",
    "    Y: n x 1 matrix\n",
    "        Returns weights: d x 1 matrix\n",
    "    \"\"\"\n",
    "    return (X.T * X).I * X.T * y"
   ]
  },
  {
   "cell_type": "code",
   "execution_count": 6,
   "metadata": {},
   "outputs": [],
   "source": [
    "w = ols_regression(X, y)"
   ]
  },
  {
   "cell_type": "code",
   "execution_count": 7,
   "metadata": {},
   "outputs": [
    {
     "data": {
      "image/png": "[encoded data removed]",
      "text/plain": [
       "<Figure size 432x288 with 1 Axes>"
      ]
     },
     "metadata": {},
     "output_type": "display_data"
    }
   ],
   "source": [
    "X_test = np.linspace(0, 1, 51)\n",
    "y_pred = (w*X_test).A1\n",
    "\n",
    "plt.plot(X_test, y_pred, c='r', label='Best Fit')\n",
    "plt.scatter(X.A1, y.A1, label='Data')\n",
    "plt.legend()\n",
    "plt.show()"
   ]
  },
  {
   "cell_type": "code",
   "execution_count": null,
   "metadata": {},
   "outputs": [],
   "source": []
  },
  {
   "cell_type": "code",
   "execution_count": null,
   "metadata": {},
   "outputs": [],
   "source": []
  }
 ],
 "metadata": {
  "kernelspec": {
   "display_name": "Python 3",
   "language": "python",
   "name": "python3"
  },
  "language_info": {
   "codemirror_mode": {
    "name": "ipython",
    "version": 3
   },
   "file_extension": ".py",
   "mimetype": "text/x-python",
   "name": "python",
   "nbconvert_exporter": "python",
   "pygments_lexer": "ipython3",
   "version": "3.6.5"
  }
 },
 "nbformat": 4,
 "nbformat_minor": 2
}
