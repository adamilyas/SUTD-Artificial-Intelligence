{
 "cells": [
  {
   "cell_type": "code",
   "execution_count": 1,
   "metadata": {},
   "outputs": [],
   "source": [
    "import torch\n",
    "import numpy as np"
   ]
  },
  {
   "cell_type": "markdown",
   "metadata": {},
   "source": [
    "## Task1\n",
    "The goal is to let you see the power of broadcasting for speeding up computations. Also to see that you can use pytorch with GPU to speed up other\n",
    "computations than aged deep learning.\n",
    "\n",
    "You have seen in the linear regression lecture an RBF kernel which is a matrix\n",
    "\n",
    "$$\n",
    "\\phi\\left(x_{i}, t_{j}\\right)=\\exp \\left(-\\frac{\\|X[i, :]-T[j, \\cdot]\\|^{2}}{\\gamma}\\right)\n",
    "$$\n",
    "\n",
    "Inside is a l2 distance matrix between $X[i, :]$ and $T [j, :]$, this is actually a so-\n",
    "called RBF kernel, shapes are:\n",
    "\n",
    "$$X.size() = (N, D)$$\n",
    "$$T.size() = (P, D)$$"
   ]
  },
  {
   "cell_type": "markdown",
   "metadata": {},
   "source": [
    "Use pytorch to compute\n",
    "$$k\\left(x_{i}, z_{j}\\right)=\\sum_{d} \\min \\left(x_{i}^{(d)}, z_{j}^{(d)}\\right)$$\n",
    "\n",
    "the hik-kernel matrix in pytorch. \n",
    "\n",
    "- X are features from one dataset with dimensionality D and sample size N . \n",
    "- Z are features from another dataset with dimensionality D and sample size L."
   ]
  },
  {
   "cell_type": "code",
   "execution_count": 12,
   "metadata": {},
   "outputs": [
    {
     "name": "stdout",
     "output_type": "stream",
     "text": [
      "(2500, 30) (500, 30)\n"
     ]
    }
   ],
   "source": [
    "# data\n",
    "numdata1=2500\n",
    "numdata2=500\n",
    "dims=30\n",
    "\n",
    "# genarate some random histogram data\n",
    "feats1=np.random.normal(size=(numdata1,dims))**2\n",
    "feats2=np.random.normal(size=(numdata2,dims))**2\n",
    "\n",
    "print(feats1.shape, feats2.shape)\n",
    "# row , col"
   ]
  },
  {
   "cell_type": "code",
   "execution_count": 13,
   "metadata": {},
   "outputs": [
    {
     "name": "stdout",
     "output_type": "stream",
     "text": [
      "(2500, 30) (500, 30)\n"
     ]
    }
   ],
   "source": [
    "feats1=feats1/np.sum(feats1,axis=1)[:,np.newaxis]\n",
    "feats2=feats2/np.sum(feats2,axis=1)[:,np.newaxis]\n",
    "print(feats1.shape, feats2.shape)"
   ]
  },
  {
   "cell_type": "code",
   "execution_count": 25,
   "metadata": {},
   "outputs": [],
   "source": [
    "def forloopdists(feats1,feats2):\n",
    "    assert feats1.shape[1] == feats2.shape[1]\n",
    "    N, D = feats1.shape\n",
    "    L, D = feats2.shape\n",
    "    \n",
    "    hik_kernel = np.zeros((N, L))\n",
    "    for i in range(N):\n",
    "        for j in range(L):\n",
    "            x1 = feats1[i]\n",
    "            x2 = feats2[j]\n",
    "            \n",
    "            dist = 0\n",
    "            for d in range(D):\n",
    "                dist += min(x1[d], x2[d])\n",
    "\n",
    "            hik_kernel[i][j] = dist\n",
    "    return hik_kernel"
   ]
  },
  {
   "cell_type": "code",
   "execution_count": 26,
   "metadata": {},
   "outputs": [],
   "source": [
    "k_forloop = forloopdists(feats1,feats2)"
   ]
  },
  {
   "cell_type": "code",
   "execution_count": 28,
   "metadata": {},
   "outputs": [
    {
     "data": {
      "text/plain": [
       "array([[0.3933693 , 0.30999872, 0.36893095, ..., 0.3790115 , 0.45168505,\n",
       "        0.3608769 ],\n",
       "       [0.30651823, 0.28050431, 0.32435223, ..., 0.37838237, 0.23918952,\n",
       "        0.2705609 ],\n",
       "       [0.39620163, 0.29213952, 0.50180438, ..., 0.39440891, 0.34903443,\n",
       "        0.4019443 ],\n",
       "       ...,\n",
       "       [0.49728528, 0.38309871, 0.44581552, ..., 0.45918649, 0.24001065,\n",
       "        0.38618867],\n",
       "       [0.4271406 , 0.30888384, 0.37961515, ..., 0.47824132, 0.31815212,\n",
       "        0.2754624 ],\n",
       "       [0.38110014, 0.44029108, 0.3280549 , ..., 0.41341018, 0.34257043,\n",
       "        0.3868733 ]])"
      ]
     },
     "execution_count": 28,
     "metadata": {},
     "output_type": "execute_result"
    }
   ],
   "source": [
    "k_forloop"
   ]
  },
  {
   "cell_type": "code",
   "execution_count": null,
   "metadata": {},
   "outputs": [],
   "source": []
  },
  {
   "cell_type": "code",
   "execution_count": null,
   "metadata": {},
   "outputs": [],
   "source": []
  },
  {
   "cell_type": "code",
   "execution_count": null,
   "metadata": {},
   "outputs": [],
   "source": [
    "def pytorchdists(feats1,feats2,device):\n",
    "    \n",
    "\n",
    "    return dist.cpu().numpy()"
   ]
  },
  {
   "cell_type": "code",
   "execution_count": null,
   "metadata": {},
   "outputs": [],
   "source": []
  }
 ],
 "metadata": {
  "kernelspec": {
   "display_name": "Python 3",
   "language": "python",
   "name": "python3"
  },
  "language_info": {
   "codemirror_mode": {
    "name": "ipython",
    "version": 3
   },
   "file_extension": ".py",
   "mimetype": "text/x-python",
   "name": "python",
   "nbconvert_exporter": "python",
   "pygments_lexer": "ipython3",
   "version": "3.6.5"
  }
 },
 "nbformat": 4,
 "nbformat_minor": 2
}
